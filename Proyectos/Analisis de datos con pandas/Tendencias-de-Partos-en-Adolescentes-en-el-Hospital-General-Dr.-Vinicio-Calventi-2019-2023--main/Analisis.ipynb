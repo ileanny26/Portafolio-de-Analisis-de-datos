{
 "cells": [
  {
   "cell_type": "markdown",
   "metadata": {},
   "source": [
    "I. Iñiguez"
   ]
  },
  {
   "cell_type": "markdown",
   "metadata": {},
   "source": [
    "# Tendencias y Análisis de Partos en Adolescentes en el Hospital General Dr. Vinicio Calventi: 2019-2023\n",
    "\n",
    "En este conjunto de datos sacado de [Datos.gob](https://datos.gob.do/dataset/partos-en-adolescentes-hgdvc-2022) cuenta con datos de los partos en adolescentes 2019-2023, las columnas que se encuentran son las siguientes:\n",
    "\n",
    "FECHA: Fecha en la que se llevó a cabo el parto o cesárea en adolescentes.\n",
    "\n",
    "EDAD: Edad de las adolescentes que dieron a luz.\n",
    "\n",
    "EDAD GESTACIONAL: Duración del embarazo en semanas.\n",
    "\n",
    "PROCEDIMIENTOS: Tipo de procedimiento realizado, indicando si fue un parto o una cesárea.\n",
    "\n",
    "GEMELAR: Indica si el parto involucró gemelos.\n",
    "\n",
    "VIVI/MUERTO: Estado del recién nacido, indicando si está vivo o muerto al momento del nacimiento.\n",
    "\n",
    "SEXO: Género del recién nacido.\n",
    "\n",
    "PESO: Peso del recién nacido al nacer.\n",
    "\n",
    "GESTA: Número de gestaciones que ha tenido la madre, incluyendo la actual.\n",
    "\n",
    "NACIONALIDAD: Nacionalidad de la madre.\n",
    "\n",
    "## Preguntas que buscamos responder con este conjunto\n",
    "\n",
    "¿Cuál es la tendencia general de partos en adolescentes a lo largo de los años 2019-2023 en el Hospital General Dr. Vinicio Calventi?\n",
    "\n",
    "¿Cuál es la edad promedio de las adolescentes que dan a luz en el hospital? \n",
    "\n",
    "¿Cómo se distribuyen los procedimientos entre partos y cesáreas en adolescentes? \n",
    "\n",
    "¿Cuántos partos gemelares han ocurrido durante este período? \n",
    "\n",
    "¿Cuál es la proporción de recién nacidos vivos y muertos entre las adolescentes que dan a luz? \n",
    "\n",
    "¿Cuál es el peso promedio de los recién nacidos entre los partos y las cesáreas?\n",
    "\n",
    "¿Cómo se distribuye la nacionalidad de las madres adolescentes? "
   ]
  },
  {
   "cell_type": "code",
   "execution_count": 55,
   "metadata": {
    "is_executing": true
   },
   "outputs": [],
   "source": [
    "#importamos la libreria \n",
    "import pandas as pd \n"
   ]
  },
  {
   "cell_type": "code",
   "execution_count": 56,
   "metadata": {},
   "outputs": [
    {
     "name": "stdout",
     "output_type": "stream",
     "text": [
      "['Hoja1']\n"
     ]
    },
    {
     "data": {
      "text/html": [
       "<div>\n",
       "<style scoped>\n",
       "    .dataframe tbody tr th:only-of-type {\n",
       "        vertical-align: middle;\n",
       "    }\n",
       "\n",
       "    .dataframe tbody tr th {\n",
       "        vertical-align: top;\n",
       "    }\n",
       "\n",
       "    .dataframe thead th {\n",
       "        text-align: right;\n",
       "    }\n",
       "</style>\n",
       "<table border=\"1\" class=\"dataframe\">\n",
       "  <thead>\n",
       "    <tr style=\"text-align: right;\">\n",
       "      <th></th>\n",
       "      <th>FECHA</th>\n",
       "      <th>EDAD</th>\n",
       "      <th>EDAD GESTACIONAL</th>\n",
       "      <th>PROCEDIMIENTOS</th>\n",
       "      <th>GEMELAR</th>\n",
       "      <th>VIVI/MUERTO</th>\n",
       "      <th>SEXO</th>\n",
       "      <th>PESO</th>\n",
       "      <th>NACIONALIDAD</th>\n",
       "    </tr>\n",
       "  </thead>\n",
       "  <tbody>\n",
       "    <tr>\n",
       "      <th>0</th>\n",
       "      <td>2019-01-05</td>\n",
       "      <td>17</td>\n",
       "      <td>38.0</td>\n",
       "      <td>CESAREA</td>\n",
       "      <td>NO</td>\n",
       "      <td>VIVO</td>\n",
       "      <td>F</td>\n",
       "      <td>3.1</td>\n",
       "      <td>DOMINICANA</td>\n",
       "    </tr>\n",
       "    <tr>\n",
       "      <th>1</th>\n",
       "      <td>2019-01-06</td>\n",
       "      <td>16</td>\n",
       "      <td>37.0</td>\n",
       "      <td>CESAREA</td>\n",
       "      <td>NO</td>\n",
       "      <td>VIVO</td>\n",
       "      <td>M</td>\n",
       "      <td>2.8</td>\n",
       "      <td>DOMINICANA</td>\n",
       "    </tr>\n",
       "    <tr>\n",
       "      <th>2</th>\n",
       "      <td>2019-01-06</td>\n",
       "      <td>19</td>\n",
       "      <td>38.0</td>\n",
       "      <td>PARTO EUTOCICO</td>\n",
       "      <td>NO</td>\n",
       "      <td>VIVO</td>\n",
       "      <td>F</td>\n",
       "      <td>2.4</td>\n",
       "      <td>DOMINICANA</td>\n",
       "    </tr>\n",
       "    <tr>\n",
       "      <th>3</th>\n",
       "      <td>2019-01-06</td>\n",
       "      <td>16</td>\n",
       "      <td>38.0</td>\n",
       "      <td>PARTO EUTOCICO</td>\n",
       "      <td>NO</td>\n",
       "      <td>VIVO</td>\n",
       "      <td>M</td>\n",
       "      <td>3.9</td>\n",
       "      <td>DOMINICANA</td>\n",
       "    </tr>\n",
       "    <tr>\n",
       "      <th>4</th>\n",
       "      <td>2019-01-07</td>\n",
       "      <td>18</td>\n",
       "      <td>37.0</td>\n",
       "      <td>CESAREA</td>\n",
       "      <td>NO</td>\n",
       "      <td>VIVO</td>\n",
       "      <td>F</td>\n",
       "      <td>3.0</td>\n",
       "      <td>DOMINICANA</td>\n",
       "    </tr>\n",
       "  </tbody>\n",
       "</table>\n",
       "</div>"
      ],
      "text/plain": [
       "       FECHA  EDAD  EDAD GESTACIONAL  PROCEDIMIENTOS GEMELAR VIVI/MUERTO SEXO  \\\n",
       "0 2019-01-05    17              38.0         CESAREA      NO        VIVO    F   \n",
       "1 2019-01-06    16              37.0         CESAREA      NO        VIVO    M   \n",
       "2 2019-01-06    19              38.0  PARTO EUTOCICO      NO        VIVO    F   \n",
       "3 2019-01-06    16              38.0  PARTO EUTOCICO      NO        VIVO    M   \n",
       "4 2019-01-07    18              37.0         CESAREA      NO        VIVO    F   \n",
       "\n",
       "   PESO NACIONALIDAD  \n",
       "0   3.1   DOMINICANA  \n",
       "1   2.8   DOMINICANA  \n",
       "2   2.4   DOMINICANA  \n",
       "3   3.9   DOMINICANA  \n",
       "4   3.0   DOMINICANA  "
      ]
     },
     "execution_count": 56,
     "metadata": {},
     "output_type": "execute_result"
    }
   ],
   "source": [
    "#Cargo mi conjunto de datos \n",
    "with pd.ExcelFile(\"datos.xlsx\") as xls:\n",
    "    sheet_names = xls.sheet_names\n",
    "print(sheet_names)\n",
    "\n",
    "dataframe= pd.read_excel(\"datos.xlsx\")\n",
    "dataframe.head()\n"
   ]
  },
  {
   "cell_type": "code",
   "execution_count": 57,
   "metadata": {},
   "outputs": [
    {
     "name": "stdout",
     "output_type": "stream",
     "text": [
      "<class 'pandas.core.frame.DataFrame'>\n",
      "RangeIndex: 1918 entries, 0 to 1917\n",
      "Data columns (total 9 columns):\n",
      " #   Column            Non-Null Count  Dtype         \n",
      "---  ------            --------------  -----         \n",
      " 0   FECHA             1918 non-null   datetime64[ns]\n",
      " 1   EDAD              1918 non-null   int64         \n",
      " 2   EDAD GESTACIONAL  1918 non-null   float64       \n",
      " 3   PROCEDIMIENTOS    1918 non-null   object        \n",
      " 4   GEMELAR           1918 non-null   object        \n",
      " 5   VIVI/MUERTO       1918 non-null   object        \n",
      " 6   SEXO              1918 non-null   object        \n",
      " 7   PESO              1918 non-null   float64       \n",
      " 8   NACIONALIDAD      1918 non-null   object        \n",
      "dtypes: datetime64[ns](1), float64(2), int64(1), object(5)\n",
      "memory usage: 135.0+ KB\n"
     ]
    }
   ],
   "source": [
    "#info de los datos cargados\n",
    "\n",
    "dataframe.info()\n",
    "\n",
    "#objects define a los datos tipo string"
   ]
  },
  {
   "cell_type": "markdown",
   "metadata": {},
   "source": [
    "# Analisis de Edades"
   ]
  },
  {
   "cell_type": "markdown",
   "metadata": {},
   "source": [
    "El embarazo adolescente, es aquel que se produce cuando una mujer se encuentra en su etapa de pubertad (entre los 10 y los 19 años, según la Organización Mundial de la Salud). "
   ]
  },
  {
   "cell_type": "code",
   "execution_count": 58,
   "metadata": {},
   "outputs": [],
   "source": [
    "# filtramos las edades que sean menor o igual 19\n",
    "dataframe= dataframe[dataframe[\"EDAD\"]<=19]"
   ]
  },
  {
   "cell_type": "markdown",
   "metadata": {},
   "source": [
    "1. ¿Cuál es la tendencia general de partos en adolescentes a lo largo de los años 2019-2023 en el Hospital General Dr. Vinicio Calventi?\n"
   ]
  },
  {
   "cell_type": "code",
   "execution_count": 59,
   "metadata": {},
   "outputs": [
    {
     "data": {
      "text/html": [
       "<div>\n",
       "<style scoped>\n",
       "    .dataframe tbody tr th:only-of-type {\n",
       "        vertical-align: middle;\n",
       "    }\n",
       "\n",
       "    .dataframe tbody tr th {\n",
       "        vertical-align: top;\n",
       "    }\n",
       "\n",
       "    .dataframe thead th {\n",
       "        text-align: right;\n",
       "    }\n",
       "</style>\n",
       "<table border=\"1\" class=\"dataframe\">\n",
       "  <thead>\n",
       "    <tr style=\"text-align: right;\">\n",
       "      <th></th>\n",
       "      <th>FECHA</th>\n",
       "      <th>CANTIDAD_PARTOS</th>\n",
       "    </tr>\n",
       "  </thead>\n",
       "  <tbody>\n",
       "    <tr>\n",
       "      <th>0</th>\n",
       "      <td>2019</td>\n",
       "      <td>425</td>\n",
       "    </tr>\n",
       "    <tr>\n",
       "      <th>1</th>\n",
       "      <td>2020</td>\n",
       "      <td>525</td>\n",
       "    </tr>\n",
       "    <tr>\n",
       "      <th>2</th>\n",
       "      <td>2021</td>\n",
       "      <td>592</td>\n",
       "    </tr>\n",
       "    <tr>\n",
       "      <th>3</th>\n",
       "      <td>2022</td>\n",
       "      <td>182</td>\n",
       "    </tr>\n",
       "    <tr>\n",
       "      <th>4</th>\n",
       "      <td>2023</td>\n",
       "      <td>194</td>\n",
       "    </tr>\n",
       "  </tbody>\n",
       "</table>\n",
       "</div>"
      ],
      "text/plain": [
       "   FECHA  CANTIDAD_PARTOS\n",
       "0   2019              425\n",
       "1   2020              525\n",
       "2   2021              592\n",
       "3   2022              182\n",
       "4   2023              194"
      ]
     },
     "execution_count": 59,
     "metadata": {},
     "output_type": "execute_result"
    }
   ],
   "source": [
    "# Agrupar por año y contar la cantidad de partos \n",
    "dataframe.groupby(dataframe['FECHA'].dt.year).size().reset_index(name='CANTIDAD_PARTOS') #reset_index es para darle formato de tabla \n"
   ]
  },
  {
   "cell_type": "code",
   "execution_count": 60,
   "metadata": {},
   "outputs": [
    {
     "data": {
      "text/plain": [
       "EDAD\n",
       "18    538\n",
       "19    526\n",
       "17    432\n",
       "16    242\n",
       "15    118\n",
       "14     42\n",
       "13     14\n",
       "12      4\n",
       "11      2\n",
       "Name: count, dtype: int64"
      ]
     },
     "execution_count": 60,
     "metadata": {},
     "output_type": "execute_result"
    }
   ],
   "source": [
    "dataframe['EDAD'].value_counts()\n"
   ]
  },
  {
   "cell_type": "code",
   "execution_count": 61,
   "metadata": {},
   "outputs": [],
   "source": [
    "#dataframe.groupby([dataframe['FECHA'].dt.year, 'EDAD']).size().reset_index(name='CANTIDAD_PARTOS')\n",
    "#para ver los partos por edades y años"
   ]
  },
  {
   "cell_type": "markdown",
   "metadata": {},
   "source": [
    "2. ¿Cuál es la edad promedio de las adolescentes que dan a luz en el hospital? ¿Ha habido cambios significativos en esta edad a lo largo del tiempo?"
   ]
  },
  {
   "cell_type": "code",
   "execution_count": 62,
   "metadata": {},
   "outputs": [
    {
     "data": {
      "text/plain": [
       "17.468196037539105"
      ]
     },
     "execution_count": 62,
     "metadata": {},
     "output_type": "execute_result"
    }
   ],
   "source": [
    "# edad promedio de las adolescentes embarazadas\n",
    "dataframe['EDAD'].mean()"
   ]
  },
  {
   "cell_type": "markdown",
   "metadata": {},
   "source": [
    "# Analisis de Procedimientos"
   ]
  },
  {
   "cell_type": "markdown",
   "metadata": {},
   "source": [
    "3. ¿Cómo se distribuyen los procedimientos entre partos y cesáreas en adolescentes? "
   ]
  },
  {
   "cell_type": "code",
   "execution_count": 63,
   "metadata": {},
   "outputs": [
    {
     "data": {
      "text/plain": [
       "PROCEDIMIENTOS\n",
       "CESAREA            1010\n",
       "PARTO EUTOCICO      878\n",
       "PARTO FORTUITO       28\n",
       "PARTO VAGINAL         1\n",
       "No Especificado       1\n",
       "Name: count, dtype: int64"
      ]
     },
     "execution_count": 63,
     "metadata": {},
     "output_type": "execute_result"
    }
   ],
   "source": [
    "dataframe['PROCEDIMIENTOS'].str.strip().value_counts()\n"
   ]
  },
  {
   "cell_type": "code",
   "execution_count": 64,
   "metadata": {},
   "outputs": [],
   "source": [
    "#dataframe['PROCEDIMIENTOS'].value_counts()\n",
    "#en la data hay algunos campos con espacios por esto se presenta asi \n",
    "#arriba esta la solucion usando .str.strip"
   ]
  },
  {
   "cell_type": "markdown",
   "metadata": {},
   "source": [
    "4. ¿Cuántos partos gemelares han ocurrido durante este período? \n"
   ]
  },
  {
   "cell_type": "code",
   "execution_count": 65,
   "metadata": {},
   "outputs": [
    {
     "data": {
      "text/plain": [
       "8"
      ]
     },
     "execution_count": 65,
     "metadata": {},
     "output_type": "execute_result"
    }
   ],
   "source": [
    "dataframe['GEMELAR'].value_counts().get('SI')"
   ]
  },
  {
   "cell_type": "markdown",
   "metadata": {},
   "source": [
    "# Analisis de natalidad y mortalidad"
   ]
  },
  {
   "cell_type": "markdown",
   "metadata": {},
   "source": [
    "5. ¿Cuál es la proporción de recién nacidos vivos y muertos entre las adolescentes que dan a luz? \n"
   ]
  },
  {
   "cell_type": "code",
   "execution_count": 66,
   "metadata": {},
   "outputs": [],
   "source": [
    "\n",
    "#dataframe.groupby('VIVI/MUERTO')['SEXO'].value_counts()"
   ]
  },
  {
   "cell_type": "code",
   "execution_count": 67,
   "metadata": {},
   "outputs": [
    {
     "data": {
      "text/plain": [
       "0       F\n",
       "1       M\n",
       "2       F\n",
       "3       M\n",
       "4       F\n",
       "       ..\n",
       "1913    F\n",
       "1914    M\n",
       "1915    M\n",
       "1916    F\n",
       "1917    F\n",
       "Name: SEXO, Length: 1918, dtype: object"
      ]
     },
     "execution_count": 67,
     "metadata": {},
     "output_type": "execute_result"
    }
   ],
   "source": [
    "dataframe['VIVI/MUERTO'].str.upper()\n",
    "dataframe['SEXO'].str.upper() #tenia que poner todo en mayu para que no se me divida en 4 categorias"
   ]
  },
  {
   "cell_type": "code",
   "execution_count": 68,
   "metadata": {},
   "outputs": [
    {
     "data": {
      "text/plain": [
       "VIVI/MUERTO  SEXO\n",
       "MUERTO       F        10\n",
       "             M         6\n",
       "VIVO         M       996\n",
       "             F       900\n",
       "             f         4\n",
       "             m         2\n",
       "Name: count, dtype: int64"
      ]
     },
     "execution_count": 68,
     "metadata": {},
     "output_type": "execute_result"
    }
   ],
   "source": [
    "dataframe.groupby('VIVI/MUERTO')['SEXO'].value_counts()"
   ]
  },
  {
   "cell_type": "code",
   "execution_count": 69,
   "metadata": {},
   "outputs": [
    {
     "data": {
      "text/plain": [
       "38.25093847758082"
      ]
     },
     "execution_count": 69,
     "metadata": {},
     "output_type": "execute_result"
    }
   ],
   "source": [
    "dataframe[\"EDAD GESTACIONAL\"].mean()"
   ]
  },
  {
   "cell_type": "markdown",
   "metadata": {},
   "source": [
    "# Analisis de peso"
   ]
  },
  {
   "cell_type": "markdown",
   "metadata": {},
   "source": [
    "6. ¿Cuál es el peso promedio de los recién nacidos entre los partos y las cesáreas?\n"
   ]
  },
  {
   "cell_type": "code",
   "execution_count": 70,
   "metadata": {},
   "outputs": [
    {
     "data": {
      "text/plain": [
       "PROCEDIMIENTOS\n",
       "CESAREA           3.213175\n",
       "PARTO EUTOCICO    3.356827\n",
       "PARTO FORTUITO    2.963636\n",
       "Name: PESO, dtype: float64"
      ]
     },
     "execution_count": 70,
     "metadata": {},
     "output_type": "execute_result"
    }
   ],
   "source": [
    "dataframe.assign(PROCEDIMIENTOS=dataframe['PROCEDIMIENTOS'].str.upper().map({'CESAREA': 'CESAREA', 'PARTO EUTOCICO': 'PARTO EUTOCICO', 'PARTO FORTUITO': 'PARTO FORTUITO'})).groupby('PROCEDIMIENTOS')['PESO'].mean()"
   ]
  },
  {
   "cell_type": "markdown",
   "metadata": {},
   "source": [
    "# Analisis de Nacionalidad "
   ]
  },
  {
   "cell_type": "markdown",
   "metadata": {},
   "source": [
    "7. ¿Cómo se distribuye la nacionalidad de las madres adolescentes? "
   ]
  },
  {
   "cell_type": "code",
   "execution_count": 71,
   "metadata": {},
   "outputs": [
    {
     "data": {
      "text/plain": [
       "NACIONALIDAD\n",
       "DOMINICANA    1854\n",
       "HAITIANA        63\n",
       "COLOMBIANA       1\n",
       "Name: count, dtype: int64"
      ]
     },
     "execution_count": 71,
     "metadata": {},
     "output_type": "execute_result"
    }
   ],
   "source": [
    "dataframe['NACIONALIDAD'].value_counts()"
   ]
  }
 ],
 "metadata": {
  "kernelspec": {
   "display_name": "Python 3",
   "language": "python",
   "name": "python3"
  },
  "language_info": {
   "codemirror_mode": {
    "name": "ipython",
    "version": 3
   },
   "file_extension": ".py",
   "mimetype": "text/x-python",
   "name": "python",
   "nbconvert_exporter": "python",
   "pygments_lexer": "ipython3",
   "version": "3.11.3"
  }
 },
 "nbformat": 4,
 "nbformat_minor": 2
}
